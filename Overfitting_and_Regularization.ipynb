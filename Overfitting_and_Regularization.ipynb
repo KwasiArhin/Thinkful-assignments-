{
  "nbformat": 4,
  "nbformat_minor": 0,
  "metadata": {
    "colab": {
      "name": "Overfitting and Regularization",
      "provenance": [],
      "authorship_tag": "ABX9TyPendLokaIkGYy9KLj8RXWB",
      "include_colab_link": true
    },
    "kernelspec": {
      "name": "python3",
      "display_name": "Python 3"
    }
  },
  "cells": [
    {
      "cell_type": "markdown",
      "metadata": {
        "id": "view-in-github",
        "colab_type": "text"
      },
      "source": [
        "<a href=\"https://colab.research.google.com/github/KwasiArhin/Thinkful-assignments-/blob/master/Overfitting_and_Regularization.ipynb\" target=\"_parent\"><img src=\"https://colab.research.google.com/assets/colab-badge.svg\" alt=\"Open In Colab\"/></a>"
      ]
    },
    {
      "cell_type": "code",
      "metadata": {
        "id": "LFKjIuANtUvF",
        "colab_type": "code",
        "colab": {}
      },
      "source": [
        "import numpy as np\n",
        "import pandas as pd\n",
        "import matplotlib.pyplot as plt\n",
        "from sqlalchemy import create_engine\n",
        "from sklearn.model_selection import train_test_split, cross_val_score\n",
        "from sklearn.metrics import mean_absolute_error\n",
        "from statsmodels.tools.eval_measures import mse, rmse\n",
        "from sklearn.linear_model import LinearRegression, LassoCV, RidgeCV, ElasticNetCV\n",
        "\n",
        "import warnings\n",
        "warnings.filterwarnings('ignore')\n",
        "\n",
        "postgres_user = 'dsbc_student'\n",
        "postgres_pw = '7*.8G9QH21'\n",
        "postgres_host = '142.93.121.174'\n",
        "postgres_port = '5432'\n",
        "postgres_db = 'houseprices'"
      ],
      "execution_count": 0,
      "outputs": []
    },
    {
      "cell_type": "code",
      "metadata": {
        "id": "Ezbslvcdtb_2",
        "colab_type": "code",
        "colab": {}
      },
      "source": [
        "engine = create_engine('postgresql://{}:{}@{}:{}/{}'.format(\n",
        "    postgres_user, postgres_pw, postgres_host, postgres_port, postgres_db))\n",
        "house_prices_df = pd.read_sql_query('select * from houseprices',con=engine)\n",
        "\n",
        "# no need for an open connection, as we're only doing a single query\n",
        "engine.dispose()"
      ],
      "execution_count": 0,
      "outputs": []
    },
    {
      "cell_type": "code",
      "metadata": {
        "id": "38EihJZ2teI2",
        "colab_type": "code",
        "colab": {}
      },
      "source": [
        "house_prices_df = pd.concat([house_prices_df,pd.get_dummies(house_prices_df.mszoning, prefix=\"mszoning\", drop_first=True)], axis=1)\n",
        "house_prices_df = pd.concat([house_prices_df,pd.get_dummies(house_prices_df.street, prefix=\"street\", drop_first=True)], axis=1)\n",
        "dummy_column_names = list(pd.get_dummies(house_prices_df.mszoning, prefix=\"mszoning\", drop_first=True).columns)\n",
        "dummy_column_names = dummy_column_names + list(pd.get_dummies(house_prices_df.street, prefix=\"street\", drop_first=True).columns)"
      ],
      "execution_count": 0,
      "outputs": []
    },
    {
      "cell_type": "code",
      "metadata": {
        "id": "EZjojq7etgeV",
        "colab_type": "code",
        "colab": {}
      },
      "source": [
        "house_prices_df['totalsf'] = house_prices_df['totalbsmtsf'] + house_prices_df['firstflrsf'] + house_prices_df['secondflrsf']\n",
        "\n",
        "house_prices_df['int_over_sf'] = house_prices_df['totalsf'] * house_prices_df['overallqual']\n",
        "\n",
        "# Y is the target variable\n",
        "Y = np.log1p(house_prices_df['saleprice'])\n",
        "# X is the feature set\n",
        "X = house_prices_df[['overallqual', 'grlivarea', 'garagecars', 'garagearea', 'totalsf', 'int_over_sf'] + dummy_column_names]\n",
        "\n",
        "X_train, X_test, y_train, y_test = train_test_split(X, Y, test_size = 0.2, random_state = 465)\n",
        "\n",
        "alphas = [np.power(10.0,p) for p in np.arange(-10,40,1)]"
      ],
      "execution_count": 0,
      "outputs": []
    },
    {
      "cell_type": "code",
      "metadata": {
        "id": "pYP_SpqGtmwI",
        "colab_type": "code",
        "colab": {
          "base_uri": "https://localhost:8080/",
          "height": 145
        },
        "outputId": "a3e67b93-6c57-4850-e84f-71280eb2eabd"
      },
      "source": [
        "lrm = LinearRegression()\n",
        "\n",
        "lrm.fit(X_train, y_train)\n",
        "\n",
        "# We are making predictions here\n",
        "y_preds_train = lrm.predict(X_train)\n",
        "y_preds_test = lrm.predict(X_test)\n",
        "\n",
        "print(\"R-squared of the model in training set is: {}\".format(lrm.score(X_train, y_train)))\n",
        "print(\"-----Test set statistics-----\")\n",
        "print(\"R-squared of the model in test set is: {}\".format(lrm.score(X_test, y_test)))\n",
        "print(\"Mean absolute error of the prediction is: {}\".format(mean_absolute_error(y_test, y_preds_test)))\n",
        "print(\"Mean squared error of the prediction is: {}\".format(mse(y_test, y_preds_test)))\n",
        "print(\"Root mean squared error of the prediction is: {}\".format(rmse(y_test, y_preds_test)))\n",
        "print(\"Mean absolute percentage error of the prediction is: {}\".format(np.mean(np.abs((y_test - y_preds_test) / y_test)) * 100))"
      ],
      "execution_count": 5,
      "outputs": [
        {
          "output_type": "stream",
          "text": [
            "R-squared of the model in training set is: 0.8321322553132751\n",
            "-----Test set statistics-----\n",
            "R-squared of the model in test set is: 0.8249302330916467\n",
            "Mean absolute error of the prediction is: 0.12570372872861488\n",
            "Mean squared error of the prediction is: 0.029192121871356388\n",
            "Root mean squared error of the prediction is: 0.17085702172095937\n",
            "Mean absolute percentage error of the prediction is: 1.0503577667823571\n"
          ],
          "name": "stdout"
        }
      ]
    },
    {
      "cell_type": "code",
      "metadata": {
        "id": "HY_oFFh5tpag",
        "colab_type": "code",
        "colab": {
          "base_uri": "https://localhost:8080/",
          "height": 163
        },
        "outputId": "502d121d-ff9a-4563-ceeb-e37af636c3d6"
      },
      "source": [
        "lasso_cv = LassoCV(alphas=alphas, cv=5)\n",
        "\n",
        "lasso_cv.fit(X_train, y_train)\n",
        "\n",
        "# We are making predictions here\n",
        "y_preds_train = lasso_cv.predict(X_train)\n",
        "y_preds_test = lasso_cv.predict(X_test)\n",
        "\n",
        "print(\"Best alpha value is: {}\".format(lasso_cv.alpha_))\n",
        "print(\"R-squared of the model in training set is: {}\".format(lasso_cv.score(X_train, y_train)))\n",
        "print(\"-----Test set statistics-----\")\n",
        "print(\"R-squared of the model in test set is: {}\".format(lasso_cv.score(X_test, y_test)))\n",
        "print(\"Mean absolute error of the prediction is: {}\".format(mean_absolute_error(y_test, y_preds_test)))\n",
        "print(\"Mean squared error of the prediction is: {}\".format(mse(y_test, y_preds_test)))\n",
        "print(\"Root mean squared error of the prediction is: {}\".format(rmse(y_test, y_preds_test)))\n",
        "print(\"Mean absolute percentage error of the prediction is: {}\".format(np.mean(np.abs((y_test - y_preds_test) / y_test)) * 100))"
      ],
      "execution_count": 6,
      "outputs": [
        {
          "output_type": "stream",
          "text": [
            "Best alpha value is: 0.0001\n",
            "R-squared of the model in training set is: 0.831939428704242\n",
            "-----Test set statistics-----\n",
            "R-squared of the model in test set is: 0.8226434437869413\n",
            "Mean absolute error of the prediction is: 0.12624310826908405\n",
            "Mean squared error of the prediction is: 0.029573434037677006\n",
            "Root mean squared error of the prediction is: 0.17196928225028157\n",
            "Mean absolute percentage error of the prediction is: 1.055235494657774\n"
          ],
          "name": "stdout"
        }
      ]
    },
    {
      "cell_type": "code",
      "metadata": {
        "id": "pav5TjmMtuhx",
        "colab_type": "code",
        "colab": {
          "base_uri": "https://localhost:8080/",
          "height": 163
        },
        "outputId": "a72ef0cb-ccf8-41b2-b169-06e2a7c949ed"
      },
      "source": [
        "ridge_cv = RidgeCV(alphas=alphas, cv=5)\n",
        "\n",
        "ridge_cv.fit(X_train, y_train)\n",
        "\n",
        "# We are making predictions here\n",
        "y_preds_train = ridge_cv.predict(X_train)\n",
        "y_preds_test = ridge_cv.predict(X_test)\n",
        "\n",
        "print(\"Best alpha value is: {}\".format(ridge_cv.alpha_))\n",
        "print(\"R-squared of the model in training set is: {}\".format(ridge_cv.score(X_train, y_train)))\n",
        "print(\"-----Test set statistics-----\")\n",
        "print(\"R-squared of the model in test set is: {}\".format(ridge_cv.score(X_test, y_test)))\n",
        "print(\"Mean absolute error of the prediction is: {}\".format(mean_absolute_error(y_test, y_preds_test)))\n",
        "print(\"Mean squared error of the prediction is: {}\".format(mse(y_test, y_preds_test)))\n",
        "print(\"Root mean squared error of the prediction is: {}\".format(rmse(y_test, y_preds_test)))\n",
        "print(\"Mean absolute percentage error of the prediction is: {}\".format(np.mean(np.abs((y_test - y_preds_test) / y_test)) * 100))"
      ],
      "execution_count": 8,
      "outputs": [
        {
          "output_type": "stream",
          "text": [
            "Best alpha value is: 1.0\n",
            "R-squared of the model in training set is: 0.8316364867222638\n",
            "-----Test set statistics-----\n",
            "R-squared of the model in test set is: 0.8203050076234291\n",
            "Mean absolute error of the prediction is: 0.12673637339741028\n",
            "Mean squared error of the prediction is: 0.029963358092978763\n",
            "Root mean squared error of the prediction is: 0.1730992723640939\n",
            "Mean absolute percentage error of the prediction is: 1.0596941230310641\n"
          ],
          "name": "stdout"
        }
      ]
    },
    {
      "cell_type": "code",
      "metadata": {
        "id": "V-iOHGeotyq6",
        "colab_type": "code",
        "colab": {
          "base_uri": "https://localhost:8080/",
          "height": 163
        },
        "outputId": "a8182444-cf71-4274-e8aa-e11875d59542"
      },
      "source": [
        "\n",
        "elasticnet_cv = ElasticNetCV(alphas=alphas, cv=5)\n",
        "\n",
        "elasticnet_cv.fit(X_train, y_train)\n",
        "\n",
        "# We are making predictions here\n",
        "y_preds_train = elasticnet_cv.predict(X_train)\n",
        "y_preds_test = elasticnet_cv.predict(X_test)\n",
        "\n",
        "print(\"Best alpha value is: {}\".format(elasticnet_cv.alpha_))\n",
        "print(\"R-squared of the model in training set is: {}\".format(elasticnet_cv.score(X_train, y_train)))\n",
        "print(\"-----Test set statistics-----\")\n",
        "print(\"R-squared of the model in test set is: {}\".format(elasticnet_cv.score(X_test, y_test)))\n",
        "print(\"Mean absolute error of the prediction is: {}\".format(mean_absolute_error(y_test, y_preds_test)))\n",
        "print(\"Mean squared error of the prediction is: {}\".format(mse(y_test, y_preds_test)))\n",
        "print(\"Root mean squared error of the prediction is: {}\".format(rmse(y_test, y_preds_test)))\n",
        "print(\"Mean absolute percentage error of the prediction is: {}\".format(np.mean(np.abs((y_test - y_preds_test) / y_test)) * 100))"
      ],
      "execution_count": 9,
      "outputs": [
        {
          "output_type": "stream",
          "text": [
            "Best alpha value is: 0.001\n",
            "R-squared of the model in training set is: 0.8299654806803803\n",
            "-----Test set statistics-----\n",
            "R-squared of the model in test set is: 0.8149185869526184\n",
            "Mean absolute error of the prediction is: 0.12770726087011364\n",
            "Mean squared error of the prediction is: 0.030861520302533838\n",
            "Root mean squared error of the prediction is: 0.17567447254092963\n",
            "Mean absolute percentage error of the prediction is: 1.0685444897303111\n"
          ],
          "name": "stdout"
        }
      ]
    },
    {
      "cell_type": "code",
      "metadata": {
        "id": "Y_Oencknt4RX",
        "colab_type": "code",
        "colab": {}
      },
      "source": [
        ""
      ],
      "execution_count": 0,
      "outputs": []
    }
  ]
}