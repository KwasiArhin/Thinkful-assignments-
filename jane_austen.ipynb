{
 "cells": [
  {
   "cell_type": "code",
   "execution_count": 1,
   "metadata": {
    "run_control": {
     "frozen": false,
     "read_only": false
    }
   },
   "outputs": [],
   "source": [
    "import numpy as np\n",
    "import pandas as pd\n",
    "import scipy\n",
    "import matplotlib.pyplot as plt\n",
    "import seaborn as sns\n",
    "%matplotlib inline"
   ]
  },
  {
   "cell_type": "markdown",
   "metadata": {},
   "source": [
    "Exploring Latent Semantic Analysis in combination with tfidf Vectorizer to identify potential topics in *Emma* by Jane Austen."
   ]
  },
  {
   "cell_type": "markdown",
   "metadata": {},
   "source": [
    "# Preprocessing of the Text"
   ]
  },
  {
   "cell_type": "code",
   "execution_count": 2,
   "metadata": {},
   "outputs": [
    {
     "name": "stdout",
     "output_type": "stream",
     "text": [
      "Requirement already satisfied: nltk in c:\\users\\kwasi\\anaconda3\\envs\\thinkful\\lib\\site-packages (3.4.5)\n",
      "Requirement already satisfied: six in c:\\users\\kwasi\\anaconda3\\envs\\thinkful\\lib\\site-packages (from nltk) (1.12.0)\n"
     ]
    }
   ],
   "source": [
    "!pip install nltk"
   ]
  },
  {
   "cell_type": "code",
   "execution_count": 3,
   "metadata": {},
   "outputs": [
    {
     "name": "stderr",
     "output_type": "stream",
     "text": [
      "[nltk_data] Downloading package gutenberg to\n",
      "[nltk_data]     C:\\Users\\Kwasi\\AppData\\Roaming\\nltk_data...\n",
      "[nltk_data]   Package gutenberg is already up-to-date!\n"
     ]
    }
   ],
   "source": [
    "import nltk\n",
    "from nltk.corpus import gutenberg\n",
    "nltk.download('gutenberg')\n",
    "import re\n",
    "from sklearn.model_selection import train_test_split"
   ]
  },
  {
   "cell_type": "code",
   "execution_count": 4,
   "metadata": {},
   "outputs": [
    {
     "name": "stderr",
     "output_type": "stream",
     "text": [
      "[nltk_data] Downloading package punkt to\n",
      "[nltk_data]     C:\\Users\\Kwasi\\AppData\\Roaming\\nltk_data...\n",
      "[nltk_data]   Package punkt is already up-to-date!\n"
     ]
    }
   ],
   "source": [
    "#reading in the data, this time in the form of paragraphs\n",
    "nltk.download('punkt')\n",
    "emma = gutenberg.paras('austen-emma.txt')"
   ]
  },
  {
   "cell_type": "code",
   "execution_count": 5,
   "metadata": {
    "run_control": {
     "frozen": false,
     "read_only": false
    }
   },
   "outputs": [
    {
     "name": "stdout",
     "output_type": "stream",
     "text": [
      "['[ Emma by Jane Austen 1816 ]', 'VOLUME I', 'CHAPTER I', 'Emma Woodhouse , handsome , clever , and rich , with a comfortable home and happy disposition , seemed to unite some of the best blessings of existence ; and had lived nearly twenty - one years in the world with very little to distress or vex her .']\n"
     ]
    }
   ],
   "source": [
    "#reading in the data, this time in the form of paragraphs\n",
    "emma=gutenberg.paras('austen-emma.txt')\n",
    "\n",
    "#processing\n",
    "emma_paras=[]\n",
    "for paragraph in emma:\n",
    "    para=paragraph[0]\n",
    "    #removing the double-dash from all words\n",
    "    para=[re.sub(r'--','',word) for word in para]\n",
    "    #Forming each paragraph into a string and adding it to the list of strings.\n",
    "    emma_paras.append(' '.join(para))\n",
    "\n",
    "print(emma_paras[0:4])"
   ]
  },
  {
   "cell_type": "markdown",
   "metadata": {
    "run_control": {
     "frozen": false,
     "read_only": false
    }
   },
   "source": [
    "# tfidf Vectorizer in sklearn"
   ]
  },
  {
   "cell_type": "code",
   "execution_count": 6,
   "metadata": {
    "run_control": {
     "frozen": false,
     "read_only": false
    },
    "scrolled": false
   },
   "outputs": [
    {
     "name": "stdout",
     "output_type": "stream",
     "text": [
      "Number of features: 1948\n",
      "Original sentence: A very few minutes more , however , completed the present trial .\n",
      "Tf_idf vector: {'minutes': 0.7127450310382584, 'present': 0.701423210857947}\n"
     ]
    }
   ],
   "source": [
    "from sklearn.feature_extraction.text import TfidfVectorizer\n",
    "\n",
    "X_train, X_test = train_test_split(emma_paras, test_size=0.4, random_state=0)\n",
    "\n",
    "vectorizer = TfidfVectorizer(max_df=0.5, # drop words that occur in more than half the paragraphs\n",
    "                             min_df=2, # only use words that appear at least twice\n",
    "                             stop_words='english', \n",
    "                             lowercase=True, #convert everything to lower case (since Alice in Wonderland has the HABIT of CAPITALIZING WORDS for EMPHASIS)\n",
    "                             use_idf=True,#we definitely want to use inverse document frequencies in our weighting\n",
    "                             norm=u'l2', #Applies a correction factor so that longer paragraphs and shorter paragraphs get treated equally\n",
    "                             smooth_idf=True #Adds 1 to all document frequencies, as if an extra document existed that used every word once.  Prevents divide-by-zero errors\n",
    "                            )\n",
    "\n",
    "\n",
    "#Applying the vectorizer\n",
    "emma_paras_tfidf=vectorizer.fit_transform(emma_paras)\n",
    "print(\"Number of features: %d\" % emma_paras_tfidf.get_shape()[1])\n",
    "\n",
    "#splitting into training and test sets\n",
    "X_train_tfidf, X_test_tfidf= train_test_split(emma_paras_tfidf, test_size=0.4, random_state=0)\n",
    "\n",
    "\n",
    "#Reshapes the vectorizer output into something people can read\n",
    "X_train_tfidf_csr = X_train_tfidf.tocsr()\n",
    "\n",
    "#number of paragraphs\n",
    "n = X_train_tfidf_csr.shape[0]\n",
    "#A list of dictionaries, one per paragraph\n",
    "tfidf_bypara = [{} for _ in range(0,n)]\n",
    "#List of features\n",
    "terms = vectorizer.get_feature_names()\n",
    "#for each paragraph, lists the feature words and their tf-idf scores\n",
    "for i, j in zip(*X_train_tfidf_csr.nonzero()):\n",
    "    tfidf_bypara[i][terms[j]] = X_train_tfidf_csr[i, j]\n",
    "\n",
    "#Keep in mind that the log base 2 of 1 is 0, so a tf-idf score of 0 indicates that the word was present once in that sentence.\n",
    "print('Original sentence:', X_train[5])\n",
    "print('Tf_idf vector:', tfidf_bypara[5])"
   ]
  },
  {
   "cell_type": "markdown",
   "metadata": {
    "run_control": {
     "frozen": false,
     "read_only": false
    }
   },
   "source": [
    "# Dimension reduction\n",
    "We will use Single Value Decomposition because we are dealing with a sparse matrix (which contains mainly zeroes and few non-zero values)."
   ]
  },
  {
   "cell_type": "code",
   "execution_count": 7,
   "metadata": {
    "run_control": {
     "frozen": false,
     "read_only": false
    },
    "scrolled": false
   },
   "outputs": [
    {
     "name": "stdout",
     "output_type": "stream",
     "text": [
      "Percent variance captured by all components: 45.21525936059159\n",
      "Component 0:\n",
      "\" Oh !     0.999289\n",
      "\" Oh !     0.999289\n",
      "\" Oh !     0.999289\n",
      "\" Oh !     0.999289\n",
      "\" Oh !\"    0.999289\n",
      "\" Oh !     0.999289\n",
      "\" Oh !     0.999289\n",
      "\" Oh !     0.999289\n",
      "\" Oh !     0.999289\n",
      "\" Oh !\"    0.999289\n",
      "Name: 0, dtype: float64\n",
      "Component 1:\n",
      "\" You have made her too tall , Emma ,\" said Mr . Knightley .                                                                                                                0.633809\n",
      "\" You get upon delicate subjects , Emma ,\" said Mrs . Weston smiling ; \" remember that I am here . Mr .                                                                     0.572581\n",
      "\" I do not know what your opinion may be , Mrs . Weston ,\" said Mr . Knightley , \" of this great intimacy between Emma and Harriet Smith , but I think it a bad thing .\"    0.571473\n",
      "\" You are right , Mrs . Weston ,\" said Mr . Knightley warmly , \" Miss Fairfax is as capable as any of us of forming a just opinion of Mrs . Elton .                         0.559173\n",
      "\" There were misunderstandings between them , Emma ; he said so expressly .                                                                                                 0.528405\n",
      "Mr . Knightley might quarrel with her , but Emma could not quarrel with herself .                                                                                           0.528221\n",
      "\" Now ,\" said Emma , when they were fairly beyond the sweep gates , \" now Mr . Weston , do let me know what has happened .\"                                                 0.517356\n",
      "Emma found that it was not Mr . Weston ' s fault that the number of privy councillors was not yet larger .                                                                  0.507622\n",
      "Emma could not have desired a more spirited rejection of Mr . Martin ' s prose .                                                                                            0.507595\n",
      "\" In one respect , perhaps , Mr . Elton ' s manners are superior to Mr . Knightley ' s or Mr . Weston ' s .                                                                 0.506358\n",
      "Name: 1, dtype: float64\n",
      "Component 2:\n",
      "CHAPTER X       0.998678\n",
      "CHAPTER X       0.998678\n",
      "CHAPTER X       0.998678\n",
      "CHAPTER V       0.998678\n",
      "CHAPTER V       0.998678\n",
      "CHAPTER I       0.998678\n",
      "CHAPTER I       0.998678\n",
      "CHAPTER I       0.998678\n",
      "CHAPTER V       0.998678\n",
      "CHAPTER XIII    0.997602\n",
      "Name: 2, dtype: float64\n",
      "Component 3:\n",
      "\" Ah !      0.992908\n",
      "But ah !    0.992908\n",
      "\" Ah !      0.992908\n",
      "\" Ah !      0.992908\n",
      "\" Ah !      0.992908\n",
      "\" Ah !      0.992908\n",
      "\" Ah !      0.992908\n",
      "But ah !    0.992908\n",
      "\" Ah !      0.992908\n",
      "\" Ah !      0.992908\n",
      "Name: 3, dtype: float64\n",
      "Component 4:\n",
      "\" There were misunderstandings between them , Emma ; he said so expressly .    0.650656\n",
      "Emma demurred .                                                                0.598371\n",
      "\" Are you well , my Emma ?\"                                                    0.598371\n",
      "Emma was silenced .                                                            0.586759\n",
      "At first it was downright dulness to Emma .                                    0.585594\n",
      "\" Emma , my dear Emma \"                                                        0.576696\n",
      "\" It is not now worth a regret ,\" said Emma .                                  0.565552\n",
      "Emma could not resist .                                                        0.565218\n",
      "\" For shame , Emma !                                                           0.539615\n",
      "\" I am ready ,\" said Emma , \" whenever I am wanted .\"                          0.500680\n",
      "Name: 4, dtype: float64\n"
     ]
    }
   ],
   "source": [
    "from sklearn.decomposition import TruncatedSVD\n",
    "from sklearn.pipeline import make_pipeline\n",
    "from sklearn.preprocessing import Normalizer\n",
    "\n",
    "#Our SVD data reducer.  We are going to reduce the feature space from 1379 to 130.\n",
    "svd= TruncatedSVD(130)\n",
    "lsa = make_pipeline(svd, Normalizer(copy=False))\n",
    "# Run SVD on the training data, then project the training data.\n",
    "X_train_lsa = lsa.fit_transform(X_train_tfidf)\n",
    "\n",
    "variance_explained=svd.explained_variance_ratio_\n",
    "total_variance = variance_explained.sum()\n",
    "print(\"Percent variance captured by all components:\",total_variance*100)\n",
    "\n",
    "#Looking at what sorts of paragraphs our solution considers similar, for the first five identified topics\n",
    "paras_by_component=pd.DataFrame(X_train_lsa,index=X_train)\n",
    "for i in range(5):\n",
    "    print('Component {}:'.format(i))\n",
    "    print(paras_by_component.loc[:,i].sort_values(ascending=False)[0:10])\n"
   ]
  },
  {
   "cell_type": "markdown",
   "metadata": {
    "run_control": {
     "frozen": false,
     "read_only": false
    }
   },
   "source": [
    "From scanning our most representative sample paragraphs, it appears that component 0 targets the exclamation 'Oh!', component 1 seems to largely involve critical dialogue directed at or about the main character Emma, component 2 is chapter headings, component 3 is exclamations involving 'Ah!, and component 4 involves actions by or directly related to Emma.\n",
    "\n",
    "\n",
    "\n",
    "# Sentence similarity\n",
    "\n",
    "We can also look at how similar various sentences are to one another.\n"
   ]
  },
  {
   "cell_type": "code",
   "execution_count": 8,
   "metadata": {
    "run_control": {
     "frozen": false,
     "read_only": false
    }
   },
   "outputs": [
    {
     "data": {
      "image/png": "[encoded data removed]",
      "text/plain": [
       "<Figure size 432x288 with 2 Axes>"
      ]
     },
     "metadata": {
      "needs_background": "light"
     },
     "output_type": "display_data"
    },
    {
     "name": "stdout",
     "output_type": "stream",
     "text": [
      "Key:\n",
      "0 That is _court_ .\n",
      "1 \" Yes , sir , I did indeed ; and I am very much obliged by your kind solicitude about me .\"\n",
      "2 \" How much his business engrosses him already is very plain from the circumstance of his forgetting to inquire for the book you recommended .\n",
      "3 To restrain him as much as might be , by her own manners , she was immediately preparing to speak with exquisite calmness and gravity of the weather and the night ; but scarcely had she begun , scarcely had they passed the sweep - gate and joined the other carriage , than she found her subject cut up  her hand seized  her attention demanded , and Mr . Elton actually making violent love to her : availing himself of the precious opportunity , declaring sentiments which must be already well known , hoping  fearing  adoring  ready to die if she refused him ; but flattering himself that his ardent attachment and unequalled love and unexampled passion could not fail of having some effect , and in short , very much resolved on being seriously accepted as soon as possible .\n",
      "4 Emma smiled and answered \" My visit was of use to the nervous part of her complaint , I hope ; but not even I can charm away a sore throat ; it is a most severe cold indeed .\n",
      "5 A very few minutes more , however , completed the present trial .\n",
      "6 \" I am delighted to hear you speak so stoutly on the subject ,\" replied Emma , smiling ; \" but you do not mean to deny that there was a time  and not very distant either  when you gave me reason to understand that you did care about him ?\"\n",
      "7 \" Very well ; and if he had intended to give her one , he would have told her so .\"\n",
      "8 Some laughed , and answered good - humouredly .\n",
      "9 \" There appeared such a perfectly good understanding among them all \" he began rather quickly , but checking himself , added , \" however , it is impossible for me to say on what terms they really were  how it might all be behind the scenes .\n"
     ]
    }
   ],
   "source": [
    "# Compute document similarity using LSA components\n",
    "similarity = np.asarray(np.asmatrix(X_train_lsa) * np.asmatrix(X_train_lsa).T)\n",
    "#Only taking the first 10 sentences\n",
    "sim_matrix=pd.DataFrame(similarity,index=X_train).iloc[0:10,0:10]\n",
    "#Making a plot\n",
    "ax = sns.heatmap(sim_matrix,yticklabels=range(10))\n",
    "plt.show()\n",
    "\n",
    "#Generating a key for the plot.\n",
    "print('Key:')\n",
    "for i in range(10):\n",
    "    print(i,sim_matrix.index[i])\n"
   ]
  },
  {
   "cell_type": "markdown",
   "metadata": {
    "run_control": {
     "frozen": false,
     "read_only": false
    }
   },
   "source": [
    "\n",
    "# Test set\n"
   ]
  },
  {
   "cell_type": "code",
   "execution_count": 9,
   "metadata": {
    "run_control": {
     "frozen": false,
     "read_only": false
    }
   },
   "outputs": [
    {
     "name": "stdout",
     "output_type": "stream",
     "text": [
      "Percent variance captured by all components: 45.21525936059159\n",
      "Component 0:\n",
      "\" Oh !    0.999289\n",
      "\" Oh !    0.999289\n",
      "\" Oh !    0.999289\n",
      "\" Oh !    0.999289\n",
      "\" Oh !    0.999289\n",
      "\" Oh !    0.999289\n",
      "\" Oh !    0.999289\n",
      "\" Oh !    0.999289\n",
      "\" Oh !    0.999289\n",
      "\" Oh !    0.999289\n",
      "Name: 0, dtype: float64\n",
      "Component 1:\n",
      "\" Well , Mrs . Weston ,\" said Emma triumphantly when he left them , \" what do you say now to Mr . Knightley ' s marrying Jane Fairfax ?\"                                                                                                                                                                                                                                                                                                                                                                          0.675637\n",
      "Frank turned instantly to Emma , to claim her former promise ; and boasted himself an engaged man , which his father looked his most perfect approbation of  and it then appeared that Mrs . Weston was wanting _him_ to dance with Mrs . Elton himself , and that their business was to help to persuade him into it , which was done pretty soon . Mr . Weston and Mrs . Elton led the way , Mr . Frank Churchill and Miss Woodhouse followed .                                                                 0.601428\n",
      "\" He is a person I never think of from one month ' s end to another ,\" said Mr . Knightley , with a degree of vexation , which made Emma immediately talk of something else , though she could not comprehend why he should be angry .                                                                                                                                                                                                                                                                            0.572359\n",
      "After tea , Mr . and Mrs . Weston , and Mr . Elton sat down with Mr . Woodhouse to cards .                                                                                                                                                                                                                                                                                                                                                                                                                        0.567575\n",
      "In this walk Emma and Mr . Weston found all the others assembled ; and towards this view she immediately perceived Mr . Knightley and Harriet distinct from the rest , quietly leading the way .                                                                                                                                                                                                                                                                                                                  0.561754\n",
      "The result of this distress was , that , with a much more voluntary , cheerful consent than his daughter had ever presumed to hope for at the moment , she was able to fix her wedding - day  and Mr . Elton was called on , within a month from the marriage of Mr . and Mrs . Robert Martin , to join the hands of Mr . Knightley and Miss Woodhouse .                                                                                                                                                          0.557677\n",
      "He had frightened her a little about Mr . Elton ; but when she considered that Mr . Knightley could not have observed him as she had done , neither with the interest , nor ( she must be allowed to tell herself , in spite of Mr . Knightley ' s pretensions ) with the skill of such an observer on such a question as herself , that he had spoken it hastily and in anger , she was able to believe , that he had rather said what he wished resentfully to be true , than what he knew any thing about .    0.542154\n",
      "\" Mrs . Weston ' s manners ,\" said Emma , \" were always particularly good .                                                                                                                                                                                                                                                                                                                                                                                                                                       0.536641\n",
      "Emma was more than half in hopes of Mr . Elton ' s having dropt a hint .                                                                                                                                                                                                                                                                                                                                                                                                                                          0.534291\n",
      "\" Well ,\" said Emma , \" there is no disputing about taste . At least you admire her except her complexion .\"                                                                                                                                                                                                                                                                                                                                                                                                      0.531576\n",
      "Name: 1, dtype: float64\n",
      "Component 2:\n",
      "CHAPTER XVIII    0.998678\n",
      "CHAPTER XV       0.998678\n",
      "CHAPTER XVIII    0.998678\n",
      "CHAPTER XV       0.998678\n",
      "CHAPTER XV       0.998678\n",
      "CHAPTER XVIII    0.998678\n",
      "CHAPTER XIX      0.998678\n",
      "CHAPTER XIII     0.997602\n",
      "CHAPTER XIII     0.997602\n",
      "CHAPTER VI       0.997592\n",
      "Name: 2, dtype: float64\n",
      "Component 3:\n",
      "\" Ah !     0.992908\n",
      "\" Ah !     0.992908\n",
      "\" Ah !     0.992908\n",
      "\" Ah !     0.992908\n",
      "\" Ah !     0.992908\n",
      "\" Ah !     0.992908\n",
      "\" Ah !     0.992908\n",
      "\" Ah !     0.992908\n",
      "\" Ah !     0.992908\n",
      "\" Ah !\"    0.992908\n",
      "Name: 3, dtype: float64\n",
      "Component 4:\n",
      "Nobody had any information to give ; and , after a few more wonderings , Emma said ,                            0.630143\n",
      "\" No , no ,\" said Emma , \" it will not reckon low .                                                             0.628668\n",
      "\" Well ,\" said Emma , \" there is no disputing about taste . At least you admire her except her complexion .\"    0.619610\n",
      "\" Emma !\"                                                                                                       0.598371\n",
      "Emma had done .                                                                                                 0.598371\n",
      "\" My Emma !\"                                                                                                    0.598371\n",
      "Emma wondered on what , of all the medley , she would fix .                                                     0.593143\n",
      "\" And I do envy him , Emma .                                                                                    0.591507\n",
      "\" Emma ,\" said she , \" this paper is worse than I expected .                                                    0.584302\n",
      "\" No ,\" said Emma , laughing ; \" but perhaps there might be some made to his coming back again .                0.544122\n",
      "Name: 4, dtype: float64\n"
     ]
    }
   ],
   "source": [
    "# Remember, you will use the same model, only with the test set data.  Don't fit a new model by mistake!\n",
    "X_test_lsa = lsa.transform(X_test_tfidf)\n",
    "\n",
    "variance_explained=svd.explained_variance_ratio_\n",
    "total_variance = variance_explained.sum()\n",
    "print(\"Percent variance captured by all components:\",total_variance*100)\n",
    "\n",
    "#Looking at what sorts of paragraphs our solution considers similar, for the first five identified topics\n",
    "paras_by_component=pd.DataFrame(X_test_lsa,index=X_test)\n",
    "for i in range(5):\n",
    "    print('Component {}:'.format(i))\n",
    "    print(paras_by_component.loc[:,i].sort_values(ascending=False)[0:10])"
   ]
  },
  {
   "cell_type": "markdown",
   "metadata": {
    "run_control": {
     "frozen": false,
     "read_only": false
    }
   },
   "source": [
    "# Tweaking tf-idf\n"
   ]
  },
  {
   "cell_type": "code",
   "execution_count": 10,
   "metadata": {},
   "outputs": [
    {
     "name": "stdout",
     "output_type": "stream",
     "text": [
      "Requirement already satisfied: spacy in c:\\users\\kwasi\\anaconda3\\envs\\thinkful\\lib\\site-packages (2.2.3)\n",
      "Requirement already satisfied: srsly<1.1.0,>=0.1.0 in c:\\users\\kwasi\\anaconda3\\envs\\thinkful\\lib\\site-packages (from spacy) (1.0.2)\n",
      "Requirement already satisfied: cymem<2.1.0,>=2.0.2 in c:\\users\\kwasi\\anaconda3\\envs\\thinkful\\lib\\site-packages (from spacy) (2.0.3)\n",
      "Requirement already satisfied: plac<1.2.0,>=0.9.6 in c:\\users\\kwasi\\anaconda3\\envs\\thinkful\\lib\\site-packages (from spacy) (1.1.3)\n",
      "Requirement already satisfied: thinc<7.4.0,>=7.3.0 in c:\\users\\kwasi\\anaconda3\\envs\\thinkful\\lib\\site-packages (from spacy) (7.3.1)\n",
      "Requirement already satisfied: blis<0.5.0,>=0.4.0 in c:\\users\\kwasi\\anaconda3\\envs\\thinkful\\lib\\site-packages (from spacy) (0.4.1)\n",
      "Requirement already satisfied: requests<3.0.0,>=2.13.0 in c:\\users\\kwasi\\anaconda3\\envs\\thinkful\\lib\\site-packages (from spacy) (2.22.0)\n",
      "Requirement already satisfied: catalogue<1.1.0,>=0.0.7 in c:\\users\\kwasi\\anaconda3\\envs\\thinkful\\lib\\site-packages (from spacy) (1.0.0)\n",
      "Requirement already satisfied: wasabi<1.1.0,>=0.4.0 in c:\\users\\kwasi\\anaconda3\\envs\\thinkful\\lib\\site-packages (from spacy) (0.6.0)\n",
      "Requirement already satisfied: numpy>=1.15.0 in c:\\users\\kwasi\\anaconda3\\envs\\thinkful\\lib\\site-packages (from spacy) (1.17.3)\n",
      "Requirement already satisfied: murmurhash<1.1.0,>=0.28.0 in c:\\users\\kwasi\\anaconda3\\envs\\thinkful\\lib\\site-packages (from spacy) (1.0.2)\n",
      "Requirement already satisfied: preshed<3.1.0,>=3.0.2 in c:\\users\\kwasi\\anaconda3\\envs\\thinkful\\lib\\site-packages (from spacy) (3.0.2)\n",
      "Requirement already satisfied: setuptools in c:\\users\\kwasi\\anaconda3\\envs\\thinkful\\lib\\site-packages (from spacy) (41.6.0.post20191030)\n",
      "Requirement already satisfied: tqdm<5.0.0,>=4.10.0 in c:\\users\\kwasi\\anaconda3\\envs\\thinkful\\lib\\site-packages (from thinc<7.4.0,>=7.3.0->spacy) (4.43.0)\n",
      "Requirement already satisfied: chardet<3.1.0,>=3.0.2 in c:\\users\\kwasi\\anaconda3\\envs\\thinkful\\lib\\site-packages (from requests<3.0.0,>=2.13.0->spacy) (3.0.4)\n",
      "Requirement already satisfied: urllib3!=1.25.0,!=1.25.1,<1.26,>=1.21.1 in c:\\users\\kwasi\\anaconda3\\envs\\thinkful\\lib\\site-packages (from requests<3.0.0,>=2.13.0->spacy) (1.25.6)\n",
      "Requirement already satisfied: certifi>=2017.4.17 in c:\\users\\kwasi\\anaconda3\\envs\\thinkful\\lib\\site-packages (from requests<3.0.0,>=2.13.0->spacy) (2019.11.28)\n",
      "Requirement already satisfied: idna<2.9,>=2.5 in c:\\users\\kwasi\\anaconda3\\envs\\thinkful\\lib\\site-packages (from requests<3.0.0,>=2.13.0->spacy) (2.8)\n",
      "Requirement already satisfied: importlib-metadata>=0.20; python_version < \"3.8\" in c:\\users\\kwasi\\anaconda3\\envs\\thinkful\\lib\\site-packages (from catalogue<1.1.0,>=0.0.7->spacy) (0.23)\n",
      "Requirement already satisfied: zipp>=0.5 in c:\\users\\kwasi\\anaconda3\\envs\\thinkful\\lib\\site-packages (from importlib-metadata>=0.20; python_version < \"3.8\"->catalogue<1.1.0,>=0.0.7->spacy) (0.6.0)\n",
      "Requirement already satisfied: more-itertools in c:\\users\\kwasi\\anaconda3\\envs\\thinkful\\lib\\site-packages (from zipp>=0.5->importlib-metadata>=0.20; python_version < \"3.8\"->catalogue<1.1.0,>=0.0.7->spacy) (7.2.0)\n"
     ]
    }
   ],
   "source": [
    "!pip install spacy"
   ]
  },
  {
   "cell_type": "code",
   "execution_count": 11,
   "metadata": {},
   "outputs": [],
   "source": [
    "import spacy"
   ]
  },
  {
   "cell_type": "code",
   "execution_count": 12,
   "metadata": {},
   "outputs": [],
   "source": [
    "emma_txt = gutenberg.raw('austen-emma.txt')\n",
    "nlp = spacy.load(\"en_core_web_sm\")"
   ]
  },
  {
   "cell_type": "code",
   "execution_count": 14,
   "metadata": {},
   "outputs": [],
   "source": [
    "nlp = spacy.load('en_core_web_sm')\n",
    "emma_paras_new = []\n",
    "for entry in emma_paras:\n",
    "    emma_paras_new.append(nlp(entry))"
   ]
  },
  {
   "cell_type": "code",
   "execution_count": 15,
   "metadata": {},
   "outputs": [],
   "source": [
    "emma_paras_lemmas = []\n",
    "for entry in emma_paras:\n",
    "    entry_parsed = nlp(entry)\n",
    "    string = ''\n",
    "    for token in entry_parsed:\n",
    "        if not token.is_punct:\n",
    "            string += token.lemma_ + ' '\n",
    "    emma_paras_lemmas.append(string)"
   ]
  },
  {
   "cell_type": "code",
   "execution_count": 16,
   "metadata": {
    "run_control": {
     "frozen": false,
     "read_only": false
    }
   },
   "outputs": [
    {
     "name": "stdout",
     "output_type": "stream",
     "text": [
      "Number of features: 1948\n"
     ]
    }
   ],
   "source": [
    "#Applying the vectorizer\n",
    "emma_paras_lemmas_tfidf=vectorizer.fit_transform(emma_paras_lemmas)\n",
    "print(\"Number of features: %d\" % emma_paras_tfidf.get_shape()[1])"
   ]
  },
  {
   "cell_type": "code",
   "execution_count": 17,
   "metadata": {},
   "outputs": [],
   "source": [
    "X_train, X_test = train_test_split(emma_paras_lemmas, test_size=0.4, random_state=0)\n",
    "X_train_lemmas_tfidf, X_test_lemmas_tfidf= train_test_split(emma_paras_lemmas_tfidf, test_size=0.4, random_state=0)"
   ]
  },
  {
   "cell_type": "code",
   "execution_count": 18,
   "metadata": {},
   "outputs": [
    {
     "data": {
      "text/plain": [
       "array([[0.        , 0.        , 0.        , ..., 0.        , 0.        ,\n",
       "        0.        ],\n",
       "       [0.        , 0.        , 0.        , ..., 0.        , 0.        ,\n",
       "        0.        ],\n",
       "       [0.        , 0.        , 0.        , ..., 0.        , 0.        ,\n",
       "        0.        ],\n",
       "       ...,\n",
       "       [0.        , 0.        , 0.        , ..., 0.        , 0.        ,\n",
       "        0.        ],\n",
       "       [0.        , 0.        , 0.        , ..., 0.        , 0.42224995,\n",
       "        0.        ],\n",
       "       [0.        , 0.        , 0.        , ..., 0.        , 0.        ,\n",
       "        0.        ]])"
      ]
     },
     "execution_count": 18,
     "metadata": {},
     "output_type": "execute_result"
    }
   ],
   "source": [
    "X_train_lemmas_tfidf.toarray()"
   ]
  },
  {
   "cell_type": "code",
   "execution_count": 19,
   "metadata": {},
   "outputs": [
    {
     "name": "stdout",
     "output_type": "stream",
     "text": [
      "Percent variance captured by all components: 45.21525936059159\n"
     ]
    }
   ],
   "source": [
    "X_train_lsa_lemmas = lsa.fit_transform(X_train_lemmas_tfidf)\n",
    "\n",
    "variance_explained_lemmas=svd.explained_variance_ratio_\n",
    "total_variance = variance_explained.sum()\n",
    "print(\"Percent variance captured by all components:\",total_variance*100)\n"
   ]
  },
  {
   "cell_type": "code",
   "execution_count": 20,
   "metadata": {},
   "outputs": [
    {
     "name": "stdout",
     "output_type": "stream",
     "text": [
      "Component 0:\n",
      "oh     0.999107\n",
      "oh     0.999107\n",
      "oh     0.999107\n",
      "oh     0.999107\n",
      "oh     0.999107\n",
      "oh     0.999107\n",
      "oh     0.999107\n",
      "oh     0.999107\n",
      "oh     0.999107\n",
      "oh     0.999107\n",
      "Name: 0, dtype: float64\n",
      "Component 1:\n",
      "-PRON- do not know what -PRON- opinion may be Mrs Weston say Mr Knightley of this great intimacy between Emma and Harriet Smith but -PRON- think -PRON- a bad thing                                                                                                                                                                                                                                                                                                                                                                                                                                                                                                                                                                                                                                                                                                                                                  0.585935\n",
      "-PRON- get upon delicate subject Emma say Mrs Weston smile remember that -PRON- be here Mr                                                                                                                                                                                                                                                                                                                                                                                                                                                                                                                                                                                                                                                                                                                                                                                                                           0.583707\n",
      "-PRON- have make -PRON- too tall Emma say Mr Knightley                                                                                                                                                                                                                                                                                                                                                                                                                                                                                                                                                                                                                                                                                                                                                                                                                                                               0.583355\n",
      "Emma could say no more                                                                                                                                                                                                                                                                                                                                                                                                                                                                                                                                                                                                                                                                                                                                                                                                                                                                                               0.581004\n",
      "there be misunderstanding between -PRON- Emma -PRON- say so expressly                                                                                                                                                                                                                                                                                                                                                                                                                                                                                                                                                                                                                                                                                                                                                                                                                                                0.581004\n",
      "-PRON- be right Mrs Weston say Mr Knightley warmly Miss Fairfax be as capable as any of -PRON- of form a just opinion of Mrs Elton                                                                                                                                                                                                                                                                                                                                                                                                                                                                                                                                                                                                                                                                                                                                                                                   0.533310\n",
      "now say Emma when -PRON- be fairly beyond the sweep gate now Mr Weston do let -PRON- know what have happen                                                                                                                                                                                                                                                                                                                                                                                                                                                                                                                                                                                                                                                                                                                                                                                                           0.525754\n",
      "Mrs Weston be act no part feign no feeling in all that -PRON- say to -PRON- in favour of the event -PRON- have be extremely surprize never more so than when Emma first open the affair to -PRON- but -PRON- see in -PRON- only increase of happiness to all and have no scruple in urge -PRON- to the utmost -PRON- have such a regard for Mr Knightley as to think -PRON- deserve even -PRON- dear Emma and -PRON- be in every respect so proper suitable and unexceptionable a connexion and in one respect one point of the high importance so peculiarly eligible so singularly fortunate that now -PRON- seem as if Emma could not safely have attach -PRON- to any other creature and that -PRON- have -PRON- be the stupid of being in not have thought of -PRON- and wish -PRON- long ago how very few of those man in a rank of life to address Emma would have renounce -PRON- own home for Hartfield     0.520520\n",
      "Pray Mr Knightley say Emma who have be smile to -PRON- through a great part of this speech how do -PRON- know that Mr Martin do not speak yesterday                                                                                                                                                                                                                                                                                                                                                                                                                                                                                                                                                                                                                                                                                                                                                                  0.508768\n",
      "-PRON- do not admire -PRON- say Mr Knightley                                                                                                                                                                                                                                                                                                                                                                                                                                                                                                                                                                                                                                                                                                                                                                                                                                                                         0.503694\n",
      "Name: 1, dtype: float64\n",
      "Component 2:\n",
      "chapter -PRON-     0.998759\n",
      "chapter X          0.998759\n",
      "chapter V          0.998759\n",
      "chapter X          0.998759\n",
      "chapter X          0.998759\n",
      "chapter V          0.998759\n",
      "chapter -PRON-     0.998759\n",
      "chapter -PRON-     0.998759\n",
      "chapter V          0.998759\n",
      "CHAPTER XVII       0.997777\n",
      "Name: 2, dtype: float64\n",
      "Component 3:\n",
      "there be misunderstanding between -PRON- Emma -PRON- say so expressly                                                                                                   0.646913\n",
      "Emma could say no more                                                                                                                                                  0.646913\n",
      "-PRON- be not now worth a regret say Emma                                                                                                                               0.532927\n",
      "but -PRON- will come again say Emma                                                                                                                                     0.466259\n",
      "emma demur                                                                                                                                                              0.465455\n",
      "be -PRON- well -PRON- Emma                                                                                                                                              0.465455\n",
      "emma -PRON- dear emma                                                                                                                                                   0.463619\n",
      "-PRON- dearest emma say -PRON- for dearest -PRON- will always be whatever the event of this hour s conversation -PRON- dear most beloved Emma   tell -PRON- at once     0.455554\n",
      "at first -PRON- be downright dulness to Emma                                                                                                                            0.455461\n",
      "-PRON- see how -PRON- be say -PRON-                                                                                                                                     0.454995\n",
      "Name: 3, dtype: float64\n",
      "Component 4:\n",
      "ah         0.985232\n",
      "ah         0.985232\n",
      "ah         0.985232\n",
      "ah         0.985232\n",
      "ah         0.985232\n",
      "ah         0.985232\n",
      "but ah     0.985232\n",
      "but ah     0.985232\n",
      "ah         0.985232\n",
      "ah         0.985232\n",
      "Name: 4, dtype: float64\n"
     ]
    }
   ],
   "source": [
    "#Looking at what sorts of paragraphs our solution considers similar, for the first five identified topics\n",
    "paras_by_component=pd.DataFrame(X_train_lsa_lemmas,index=X_train)\n",
    "for i in range(5):\n",
    "    print('Component {}:'.format(i))\n",
    "    print(paras_by_component.loc[:,i].sort_values(ascending=False)[0:10])"
   ]
  },
  {
   "cell_type": "code",
   "execution_count": 21,
   "metadata": {},
   "outputs": [],
   "source": [
    "#Tweaks Go Here\n",
    "vectorizer_one = TfidfVectorizer(max_df=0.6, # drop words that occur in more than half the paragraphs\n",
    "                             min_df=30, # only use words that appear at least twice\n",
    "                             stop_words='english', \n",
    "                             lowercase=True, #convert everything to lower case (since Alice in Wonderland has the HABIT of CAPITALIZING WORDS for EMPHASIS)\n",
    "                             use_idf=True,#we definitely want to use inverse document frequencies in our weighting\n",
    "                             norm=u'l2', #Applies a correction factor so that longer paragraphs and shorter paragraphs get treated equally\n",
    "                             smooth_idf=True #Adds 1 to all document frequencies, as if an extra document existed that used every word once.  Prevents divide-by-zero errors\n",
    "                            )"
   ]
  },
  {
   "cell_type": "code",
   "execution_count": 22,
   "metadata": {},
   "outputs": [
    {
     "name": "stdout",
     "output_type": "stream",
     "text": [
      "Number of features: 100\n"
     ]
    }
   ],
   "source": [
    "#Applying the vectorizer\n",
    "emma_paras_lemmas_tfidf_one=vectorizer_one.fit_transform(emma_paras_lemmas)\n",
    "print(\"Number of features: %d\" % emma_paras_lemmas_tfidf_one.get_shape()[1])"
   ]
  },
  {
   "cell_type": "code",
   "execution_count": 23,
   "metadata": {},
   "outputs": [],
   "source": [
    "X_train_lemmas_tfidf_one, X_test_lemmas_tfidf_one= train_test_split(emma_paras_lemmas_tfidf_one, test_size=0.4, random_state=0)"
   ]
  },
  {
   "cell_type": "code",
   "execution_count": 24,
   "metadata": {},
   "outputs": [],
   "source": [
    "svd_one= TruncatedSVD(50)\n",
    "lsa_one = make_pipeline(svd_one, Normalizer(copy=False))"
   ]
  },
  {
   "cell_type": "code",
   "execution_count": 25,
   "metadata": {},
   "outputs": [
    {
     "name": "stdout",
     "output_type": "stream",
     "text": [
      "Percent variance captured by all components: 45.21525936059159\n"
     ]
    }
   ],
   "source": [
    "X_train_lsa_lemmas_one = lsa_one.fit_transform(X_train_lemmas_tfidf_one)\n",
    "\n",
    "variance_explained_lemmas=svd_one.explained_variance_ratio_\n",
    "total_variance = variance_explained.sum()\n",
    "print(\"Percent variance captured by all components:\",total_variance*100)"
   ]
  },
  {
   "cell_type": "code",
   "execution_count": 26,
   "metadata": {},
   "outputs": [
    {
     "name": "stdout",
     "output_type": "stream",
     "text": [
      "Component 0:\n",
      "Mrs Weston be act no part feign no feeling in all that -PRON- say to -PRON- in favour of the event -PRON- have be extremely surprize never more so than when Emma first open the affair to -PRON- but -PRON- see in -PRON- only increase of happiness to all and have no scruple in urge -PRON- to the utmost -PRON- have such a regard for Mr Knightley as to think -PRON- deserve even -PRON- dear Emma and -PRON- be in every respect so proper suitable and unexceptionable a connexion and in one respect one point of the high importance so peculiarly eligible so singularly fortunate that now -PRON- seem as if Emma could not safely have attach -PRON- to any other creature and that -PRON- have -PRON- be the stupid of being in not have thought of -PRON- and wish -PRON- long ago how very few of those man in a rank of life to address Emma would have renounce -PRON- own home for Hartfield     0.753409\n",
      "emma say Mr Knightley presently -PRON- have a piece of news for -PRON-                                                                                                                                                                                                                                                                                                                                                                                                                                                                                                                                                                                                                                                                                                                                                                                                                                               0.736988\n",
      "there be misunderstanding between -PRON- Emma -PRON- say so expressly                                                                                                                                                                                                                                                                                                                                                                                                                                                                                                                                                                                                                                                                                                                                                                                                                                                0.690771\n",
      "-PRON- be not now worth a regret say Emma                                                                                                                                                                                                                                                                                                                                                                                                                                                                                                                                                                                                                                                                                                                                                                                                                                                                            0.690771\n",
      "-PRON- be very much oblige to -PRON- say Emma laugh again                                                                                                                                                                                                                                                                                                                                                                                                                                                                                                                                                                                                                                                                                                                                                                                                                                                            0.690771\n",
      "Emma could say no more                                                                                                                                                                                                                                                                                                                                                                                                                                                                                                                                                                                                                                                                                                                                                                                                                                                                                               0.690771\n",
      "-PRON- be not fair say Emma in a whisper mine be a random guess                                                                                                                                                                                                                                                                                                                                                                                                                                                                                                                                                                                                                                                                                                                                                                                                                                                      0.690771\n",
      "Emma amuse -PRON- by protest that -PRON- be very extraordinary indeed and that -PRON- have not a syllable to say for -PRON-                                                                                                                                                                                                                                                                                                                                                                                                                                                                                                                                                                                                                                                                                                                                                                                          0.690771\n",
      "Emma could not have desire a more spirited rejection of Mr Martin s prose                                                                                                                                                                                                                                                                                                                                                                                                                                                                                                                                                                                                                                                                                                                                                                                                                                            0.690321\n",
      "the intermediate month be the one fix on as far as -PRON- dare by Emma and Mr                                                                                                                                                                                                                                                                                                                                                                                                                                                                                                                                                                                                                                                                                                                                                                                                                                        0.690321\n",
      "Name: 0, dtype: float64\n",
      "Component 1:\n",
      "oh     0.997217\n",
      "oh     0.997217\n",
      "oh     0.997217\n",
      "oh     0.997217\n",
      "oh     0.997217\n",
      "oh     0.997217\n",
      "oh     0.997217\n",
      "oh     0.997217\n",
      "oh     0.997217\n",
      "oh     0.997217\n",
      "Name: 1, dtype: float64\n",
      "Component 2:\n",
      "that be court                                                                                                       0.736688\n",
      "Emma could not resist                                                                                               0.620044\n",
      "Emma could imagine -PRON- see a touch of the arm at this speech from -PRON- wife                                    0.620044\n",
      "-PRON- be a very pretty girl and -PRON- beauty happen to be of a sort which Emma particularly admire                0.620044\n",
      "Emma laugh and disclaim                                                                                             0.620044\n",
      "Emma remain in a state of vexation too but there be more indistinctness in the cause of -PRON- s than in -PRON-     0.620044\n",
      "for shame Emma                                                                                                      0.620044\n",
      "Emma be not sorry to be press                                                                                       0.620044\n",
      "Emma learn to be rather glad that there have be such a meeting                                                      0.620044\n",
      "Emma even jump with surprize and horror strike exclaim                                                              0.620044\n",
      "Name: 2, dtype: float64\n",
      "Component 3:\n",
      "be satisfied say -PRON- -PRON- will not raise any outcry                                                                                        0.793656\n",
      "-PRON- do not say -PRON- be so but -PRON- will do well to consider whether -PRON- be so or not and to regulate -PRON- behaviour accordingly     0.793656\n",
      "-PRON- be a most repulsive quality indeed say -PRON-                                                                                            0.793656\n",
      "-PRON- have better go on say -PRON-                                                                                                             0.793656\n",
      "-PRON- dare say -PRON- have                                                                                                                     0.793656\n",
      "-PRON- be kindly say and very far from give offence                                                                                             0.793656\n",
      "-PRON- be glad -PRON- approve of what -PRON- have do say -PRON- very comfortably                                                                0.793656\n",
      "-PRON- be too magnificent say -PRON-                                                                                                            0.793656\n",
      "pray say no more                                                                                                                                0.793656\n",
      "do -PRON- dare say this                                                                                                                         0.793656\n",
      "Name: 3, dtype: float64\n",
      "Component 4:\n",
      "-PRON- could think of nothing well and though there be something in -PRON- which -PRON- own heart could not approve   something of ingratitude merely gloss over   -PRON- must be do or what would become of Harriet     0.869273\n",
      "Harriet Smith be the natural daughter of somebody                                                                                                                                                                        0.798636\n",
      "Harriet                                                                                                                                                                                                                  0.798636\n",
      "nor if -PRON- be could -PRON- ever bear to part with -PRON- -PRON- Harriet                                                                                                                                               0.798636\n",
      "the picture how eager -PRON- have be about the picture and the charade and an hundred other circumstance how clearly -PRON- have seem to point at Harriet                                                                0.798636\n",
      "-PRON- now resolve to keep Harriet no longer in the dark                                                                                                                                                                 0.798636\n",
      "indeed Harriet -PRON- would have be a severe pang to lose -PRON- but -PRON- must have be                                                                                                                                 0.798636\n",
      "the misfortune of Harriet s cold have be pretty well go through before -PRON- arrival                                                                                                                                    0.798636\n",
      "-PRON- be not at all surprize at -PRON- Harriet                                                                                                                                                                          0.798636\n",
      "Harriet be silent                                                                                                                                                                                                        0.798636\n",
      "Name: 4, dtype: float64\n"
     ]
    }
   ],
   "source": [
    "paras_by_component=pd.DataFrame(X_train_lsa_lemmas_one,index=X_train)\n",
    "for i in range(5):\n",
    "    print('Component {}:'.format(i))\n",
    "    print(paras_by_component.loc[:,i].sort_values(ascending=False)[0:10])"
   ]
  },
  {
   "cell_type": "markdown",
   "metadata": {},
   "source": [
    "# Test Set Components"
   ]
  },
  {
   "cell_type": "code",
   "execution_count": 27,
   "metadata": {},
   "outputs": [],
   "source": [
    "X_test_lsa_lemmas_one = lsa_one.transform(X_test_lemmas_tfidf_one)"
   ]
  },
  {
   "cell_type": "code",
   "execution_count": 28,
   "metadata": {},
   "outputs": [
    {
     "name": "stdout",
     "output_type": "stream",
     "text": [
      "Component 0:\n",
      "read -PRON- read -PRON- say -PRON- -PRON- will give -PRON- pleasure only a few line   will not take -PRON- long read -PRON- to Emma                                                                                                      0.709129\n",
      "well Mrs Weston say Emma triumphantly when -PRON- leave -PRON- what do -PRON- say now to Mr Knightley s marry Jane Fairfax                                                                                                               0.692716\n",
      "well say Emma there be no dispute about taste at least -PRON- admire -PRON- except -PRON- complexion                                                                                                                                     0.690775\n",
      "nobody have any information to give and after a few more wondering Emma say                                                                                                                                                              0.690775\n",
      "but -PRON- laugh so heartily at the recollection that Emma could not help say                                                                                                                                                            0.690775\n",
      "very likely say Emma nothing more likely                                                                                                                                                                                                 0.690775\n",
      "no no say Emma -PRON- will not reckon low                                                                                                                                                                                                0.690775\n",
      "-PRON- be a person -PRON- never think of from one month s end to another say Mr Knightley with a degree of vexation which make Emma immediately talk of something else though -PRON- could not comprehend why -PRON- should be angry     0.628461\n",
      "-PRON- be afraid -PRON- must be run away say Emma glance at Harriet and begin to rise -PRON- father will be expect -PRON-                                                                                                                0.626570\n",
      "emma say -PRON- this paper be bad than -PRON- expect                                                                                                                                                                                     0.611431\n",
      "Name: 0, dtype: float64\n",
      "Component 1:\n",
      "oh        0.997216\n",
      "oh no     0.997216\n",
      "oh        0.997216\n",
      "oh        0.997216\n",
      "oh        0.997216\n",
      "oh        0.997216\n",
      "oh        0.997216\n",
      "oh        0.997216\n",
      "oh        0.997216\n",
      "oh        0.997216\n",
      "Name: 1, dtype: float64\n",
      "Component 2:\n",
      "engage since October secretly engage -PRON- have hurt -PRON- Emma very much                                                                                0.620054\n",
      "emma                                                                                                                                                       0.620054\n",
      "no second meeting have there yet be between -PRON- and Emma                                                                                                0.620054\n",
      "such an imagination have cross -PRON- -PRON- own Emma and if -PRON- never occur to -PRON- before -PRON- may as well take -PRON- into consideration now     0.620054\n",
      "Emma be in no danger of forget                                                                                                                             0.620054\n",
      "and -PRON- do envy -PRON- Emma                                                                                                                             0.620054\n",
      "Emma do not repent -PRON- condescension in go to the Coles                                                                                                 0.620054\n",
      "Emma recollect blush be sorry but try to laugh -PRON- off                                                                                                  0.620054\n",
      "Emma wonder on what of all the medley -PRON- would fix                                                                                                     0.620054\n",
      "Emma be extremely confused                                                                                                                                 0.620054\n",
      "Name: 2, dtype: float64\n",
      "Component 3:\n",
      "Don t say -PRON- be cross                                                                                                       0.793624\n",
      "there be no charm equal to tenderness of heart say -PRON- afterwards to -PRON-                                                  0.793624\n",
      "-PRON- be to be a secret -PRON- conclude say -PRON-                                                                             0.793624\n",
      "this present from the Campbells say -PRON- this pianoforte be very kindly give                                                  0.793624\n",
      "-PRON- choose to say -PRON- be employ                                                                                           0.793624\n",
      "upon -PRON- honour say -PRON- very seriously -PRON- do not                                                                      0.793624\n",
      "if -PRON- be very kind say -PRON- -PRON- will be one of the waltz -PRON- dance last night let -PRON- live -PRON- over again     0.793624\n",
      "well say -PRON- in a deliberating manner for five minute perhaps                                                                0.729562\n",
      "-PRON- dare say return Harriet sigh again -PRON- dare say -PRON- be very much attach to -PRON-                                  0.696926\n",
      "that s easily say and easily feel by -PRON- who have always be -PRON- own master                                                0.634908\n",
      "Name: 3, dtype: float64\n",
      "Component 4:\n",
      "how -PRON- could have be so deceive -PRON- protest that -PRON- have never think seriously of Harriet   never                                                         0.869304\n",
      "Harriet would have be a well match                                                                                                                                   0.798679\n",
      "Harriet must give -PRON- as much of -PRON- company as -PRON- can while -PRON- brother and sister be here                                                             0.798679\n",
      "-PRON- dearest Harriet                                                                                                                                               0.798679\n",
      "Harriet exactly                                                                                                                                                      0.798679\n",
      "Harriet be stand at one of the window                                                                                                                                0.798679\n",
      "-PRON- be well to have a comfort in store on Harriet s behalf though -PRON- may be wise to let the fancy touch -PRON- seldom for evil in that quarter be at hand     0.798679\n",
      "Harriet have not surmise -PRON- own danger but the idea of -PRON- strike -PRON- forcibly                                                                             0.796330\n",
      "Harriet poor Harriet                                                                                                                                                 0.786612\n",
      "Harriet sleep at Hartfield that night                                                                                                                                0.756394\n",
      "Name: 4, dtype: float64\n"
     ]
    }
   ],
   "source": [
    "paras_by_component=pd.DataFrame(X_test_lsa_lemmas_one,index=X_test)\n",
    "for i in range(5):\n",
    "    print('Component {}:'.format(i))\n",
    "    print(paras_by_component.loc[:,i].sort_values(ascending=False)[0:10])"
   ]
  },
  {
   "cell_type": "markdown",
   "metadata": {},
   "source": [
    "## Components Identified:\n",
    "\n",
    "- component 0: Emma's utternaces\n",
    "- component 1: 'oh' interjection\n",
    "- component 2: Emma's inner thoughts and her emotions\n",
    "- component 3: dialogue between Emma and a male characters\n",
    "- component 4: Anything related to harriet\n"
   ]
  },
  {
   "cell_type": "markdown",
   "metadata": {},
   "source": [
    "Intresting what you could do with text after you start to be able to parse out from a corpus. This type of clustering could be useful in figuring the topics of a book, a chapter, a podcast, etc. Then the next thing you could do is work those topics into classifications. This is among the many other things this could help with. "
   ]
  },
  {
   "cell_type": "code",
   "execution_count": null,
   "metadata": {},
   "outputs": [],
   "source": []
  }
 ],
 "metadata": {
  "hide_input": false,
  "kernelspec": {
   "display_name": "Python 3",
   "language": "python",
   "name": "python3"
  },
  "language_info": {
   "codemirror_mode": {
    "name": "ipython",
    "version": 3
   },
   "file_extension": ".py",
   "mimetype": "text/x-python",
   "name": "python",
   "nbconvert_exporter": "python",
   "pygments_lexer": "ipython3",
   "version": "3.7.1"
  },
  "toc": {
   "base_numbering": 1,
   "nav_menu": {
    "height": "142px",
    "width": "252px"
   },
   "number_sections": true,
   "sideBar": true,
   "skip_h1_title": false,
   "title_cell": "Table of Contents",
   "title_sidebar": "Contents",
   "toc_cell": false,
   "toc_position": {},
   "toc_section_display": "block",
   "toc_window_display": false
  }
 },
 "nbformat": 4,
 "nbformat_minor": 2
}
