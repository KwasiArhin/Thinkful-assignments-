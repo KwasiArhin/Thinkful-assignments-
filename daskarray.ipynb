{
  "nbformat": 4,
  "nbformat_minor": 0,
  "metadata": {
    "kernelspec": {
      "display_name": "Python 3",
      "language": "python",
      "name": "python3"
    },
    "language_info": {
      "codemirror_mode": {
        "name": "ipython",
        "version": 3
      },
      "file_extension": ".py",
      "mimetype": "text/x-python",
      "name": "python",
      "nbconvert_exporter": "python",
      "pygments_lexer": "ipython3",
      "version": "3.7.1"
    },
    "latex_envs": {
      "LaTeX_envs_menu_present": true,
      "autoclose": false,
      "autocomplete": true,
      "bibliofile": "biblio.bib",
      "cite_by": "apalike",
      "current_citInitial": 1,
      "eqLabelWithNumbers": true,
      "eqNumInitial": 1,
      "hotkeys": {
        "equation": "Ctrl-E",
        "itemize": "Ctrl-I"
      },
      "labels_anchors": false,
      "latex_user_defs": false,
      "report_style_numbering": false,
      "user_envs_cfg": false
    },
    "varInspector": {
      "cols": {
        "lenName": 16,
        "lenType": 16,
        "lenVar": 40
      },
      "kernels_config": {
        "python": {
          "delete_cmd_postfix": "",
          "delete_cmd_prefix": "del ",
          "library": "var_list.py",
          "varRefreshCmd": "print(var_dic_list())"
        },
        "r": {
          "delete_cmd_postfix": ") ",
          "delete_cmd_prefix": "rm(",
          "library": "var_list.r",
          "varRefreshCmd": "cat(var_dic_list()) "
        }
      },
      "types_to_exclude": [
        "module",
        "function",
        "builtin_function_or_method",
        "instance",
        "_Feature"
      ],
      "window_display": false
    },
    "colab": {
      "name": "daskarray",
      "provenance": [],
      "include_colab_link": true
    }
  },
  "cells": [
    {
      "cell_type": "markdown",
      "metadata": {
        "id": "view-in-github",
        "colab_type": "text"
      },
      "source": [
        "<a href=\"https://colab.research.google.com/github/KwasiArhin/Thinkful-assignments-/blob/master/daskarray.ipynb\" target=\"_parent\"><img src=\"https://colab.research.google.com/assets/colab-badge.svg\" alt=\"Open In Colab\"/></a>"
      ]
    },
    {
      "cell_type": "code",
      "metadata": {
        "id": "XQgBW9zvHMlF",
        "colab_type": "code",
        "colab": {}
      },
      "source": [
        "import dask.array as da"
      ],
      "execution_count": 0,
      "outputs": []
    },
    {
      "cell_type": "markdown",
      "metadata": {
        "id": "gPSdlEoWHMlV",
        "colab_type": "text"
      },
      "source": [
        "## 1. Change the code above by setting `chunks=(250, 250)`. How long does it take to run?"
      ]
    },
    {
      "cell_type": "code",
      "metadata": {
        "id": "HAHx2rDdHMlW",
        "colab_type": "code",
        "outputId": "ca38b1cb-5c1a-47a8-88de-78a187c9902d",
        "colab": {
          "base_uri": "https://localhost:8080/",
          "height": 34
        }
      },
      "source": [
        "%%timeit\n",
        "x = da.random.random((10000, 10000), chunks=(250, 250))\n",
        "y = x + x.T\n",
        "z = y[::2, 5000:].mean(axis=1)\n",
        "z.compute()"
      ],
      "execution_count": 5,
      "outputs": [
        {
          "output_type": "stream",
          "text": [
            "1 loop, best of 3: 1.94 s per loop\n"
          ],
          "name": "stdout"
        }
      ]
    },
    {
      "cell_type": "markdown",
      "metadata": {
        "id": "o0e8CqO1HMlf",
        "colab_type": "text"
      },
      "source": [
        "It took around 1.94 seconds or 1940 milliseconds."
      ]
    },
    {
      "cell_type": "markdown",
      "metadata": {
        "id": "TIZgDBaTHMlh",
        "colab_type": "text"
      },
      "source": [
        "## 2. Now, set the parameter to `chunks=(500, 500)`. How long does it take to run? Does this one or the previous one run quickly? Why?"
      ]
    },
    {
      "cell_type": "code",
      "metadata": {
        "id": "c4O9wBu5HMlj",
        "colab_type": "code",
        "outputId": "75c020b0-01c0-4e4f-c755-0abdf1a1c3bc",
        "colab": {
          "base_uri": "https://localhost:8080/",
          "height": 34
        }
      },
      "source": [
        "%%timeit\n",
        "x = da.random.random((10000, 10000), chunks=(500, 500))\n",
        "y = x + x.T\n",
        "z = y[::2, 5000:].mean(axis=1)\n",
        "z.compute()"
      ],
      "execution_count": 6,
      "outputs": [
        {
          "output_type": "stream",
          "text": [
            "1 loop, best of 3: 1.03 s per loop\n"
          ],
          "name": "stdout"
        }
      ]
    },
    {
      "cell_type": "markdown",
      "metadata": {
        "id": "uoNaVJFqHMlp",
        "colab_type": "text"
      },
      "source": [
        "It took around 1030 milliseconds which is around half of what it takes in the previous task. This is because, when we divide a Dask array into smaller chunks Dask needs to manage a higher number of chunks. This requires more computation. If our dataset can fit into memory as is in our case, then setting the chunk size to a larger number speeds up the computation."
      ]
    },
    {
      "cell_type": "code",
      "metadata": {
        "id": "HYxQ_nQ8H9MU",
        "colab_type": "code",
        "colab": {}
      },
      "source": [
        ""
      ],
      "execution_count": 0,
      "outputs": []
    }
  ]
}