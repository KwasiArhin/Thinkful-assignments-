{
 "cells": [
  {
   "cell_type": "markdown",
   "metadata": {},
   "source": [
    "Introducing the Pima dataset\n",
    "This data contains health statistics of female members of the Pima tribe. To learn more about the dataset see here.\n",
    "\n",
    "For this analysis, we will explore whether patients with diabetes have higher insulin and glucose levels than those without diabetes.\n",
    "\n",
    "Let's initialize the data and get started."
   ]
  },
  {
   "cell_type": "code",
   "execution_count": 6,
   "metadata": {},
   "outputs": [
    {
     "name": "stdout",
     "output_type": "stream",
     "text": [
      "<class 'pandas.core.frame.DataFrame'>\n",
      "RangeIndex: 546 entries, 0 to 545\n",
      "Data columns (total 12 columns):\n",
      "price       546 non-null float64\n",
      "lotsize     546 non-null int64\n",
      "bedrooms    546 non-null int64\n",
      "bathrms     546 non-null int64\n",
      "stories     546 non-null int64\n",
      "driveway    546 non-null object\n",
      "recroom     546 non-null object\n",
      "fullbase    546 non-null object\n",
      "gashw       546 non-null object\n",
      "airco       546 non-null object\n",
      "garagepl    546 non-null int64\n",
      "prefarea    546 non-null object\n",
      "dtypes: float64(1), int64(5), object(6)\n",
      "memory usage: 51.3+ KB\n"
     ]
    },
    {
     "data": {
      "text/html": [
       "<div>\n",
       "<style scoped>\n",
       "    .dataframe tbody tr th:only-of-type {\n",
       "        vertical-align: middle;\n",
       "    }\n",
       "\n",
       "    .dataframe tbody tr th {\n",
       "        vertical-align: top;\n",
       "    }\n",
       "\n",
       "    .dataframe thead th {\n",
       "        text-align: right;\n",
       "    }\n",
       "</style>\n",
       "<table border=\"1\" class=\"dataframe\">\n",
       "  <thead>\n",
       "    <tr style=\"text-align: right;\">\n",
       "      <th></th>\n",
       "      <th>price</th>\n",
       "      <th>lotsize</th>\n",
       "      <th>bedrooms</th>\n",
       "      <th>bathrms</th>\n",
       "      <th>stories</th>\n",
       "      <th>driveway</th>\n",
       "      <th>recroom</th>\n",
       "      <th>fullbase</th>\n",
       "      <th>gashw</th>\n",
       "      <th>airco</th>\n",
       "      <th>garagepl</th>\n",
       "      <th>prefarea</th>\n",
       "    </tr>\n",
       "  </thead>\n",
       "  <tbody>\n",
       "    <tr>\n",
       "      <td>0</td>\n",
       "      <td>42000.0</td>\n",
       "      <td>5850</td>\n",
       "      <td>3</td>\n",
       "      <td>1</td>\n",
       "      <td>2</td>\n",
       "      <td>yes</td>\n",
       "      <td>no</td>\n",
       "      <td>yes</td>\n",
       "      <td>no</td>\n",
       "      <td>no</td>\n",
       "      <td>1</td>\n",
       "      <td>no</td>\n",
       "    </tr>\n",
       "    <tr>\n",
       "      <td>1</td>\n",
       "      <td>66000.0</td>\n",
       "      <td>3880</td>\n",
       "      <td>3</td>\n",
       "      <td>2</td>\n",
       "      <td>2</td>\n",
       "      <td>yes</td>\n",
       "      <td>no</td>\n",
       "      <td>yes</td>\n",
       "      <td>no</td>\n",
       "      <td>no</td>\n",
       "      <td>2</td>\n",
       "      <td>no</td>\n",
       "    </tr>\n",
       "    <tr>\n",
       "      <td>2</td>\n",
       "      <td>83800.0</td>\n",
       "      <td>4800</td>\n",
       "      <td>3</td>\n",
       "      <td>1</td>\n",
       "      <td>1</td>\n",
       "      <td>yes</td>\n",
       "      <td>yes</td>\n",
       "      <td>yes</td>\n",
       "      <td>no</td>\n",
       "      <td>no</td>\n",
       "      <td>0</td>\n",
       "      <td>no</td>\n",
       "    </tr>\n",
       "    <tr>\n",
       "      <td>3</td>\n",
       "      <td>45000.0</td>\n",
       "      <td>3986</td>\n",
       "      <td>2</td>\n",
       "      <td>2</td>\n",
       "      <td>1</td>\n",
       "      <td>no</td>\n",
       "      <td>yes</td>\n",
       "      <td>yes</td>\n",
       "      <td>no</td>\n",
       "      <td>no</td>\n",
       "      <td>1</td>\n",
       "      <td>no</td>\n",
       "    </tr>\n",
       "    <tr>\n",
       "      <td>4</td>\n",
       "      <td>65900.0</td>\n",
       "      <td>4510</td>\n",
       "      <td>4</td>\n",
       "      <td>2</td>\n",
       "      <td>2</td>\n",
       "      <td>yes</td>\n",
       "      <td>no</td>\n",
       "      <td>yes</td>\n",
       "      <td>no</td>\n",
       "      <td>no</td>\n",
       "      <td>0</td>\n",
       "      <td>no</td>\n",
       "    </tr>\n",
       "  </tbody>\n",
       "</table>\n",
       "</div>"
      ],
      "text/plain": [
       "     price  lotsize  bedrooms  bathrms  stories driveway recroom fullbase  \\\n",
       "0  42000.0     5850         3        1        2      yes      no      yes   \n",
       "1  66000.0     3880         3        2        2      yes      no      yes   \n",
       "2  83800.0     4800         3        1        1      yes     yes      yes   \n",
       "3  45000.0     3986         2        2        1       no     yes      yes   \n",
       "4  65900.0     4510         4        2        2      yes      no      yes   \n",
       "\n",
       "  gashw airco  garagepl prefarea  \n",
       "0    no    no         1       no  \n",
       "1    no    no         2       no  \n",
       "2    no    no         0       no  \n",
       "3    no    no         1       no  \n",
       "4    no    no         0       no  "
      ]
     },
     "execution_count": 6,
     "metadata": {},
     "output_type": "execute_result"
    }
   ],
   "source": [
    "# Set up environment\n",
    "\n",
    "import math\n",
    "import pandas as pd\n",
    "import numpy as np\n",
    "from scipy import stats\n",
    "import matplotlib.pyplot as plt\n",
    "\n",
    "# Read in our data\n",
    "\n",
    "home_prices = pd.read_csv(\"homeprices.applied.econ.csv\")\n",
    "\n",
    "# Get to know the data a bit\n",
    "\n",
    "home_prices.info()\n",
    "\n",
    "home_prices.head()"
   ]
  },
  {
   "cell_type": "markdown",
   "metadata": {},
   "source": [
    "The final variable, outcome, indicates whether a patient has diabetes. A 1 is a yes and a 0 is a no. Let's split the data based on this variable for ease of analysis."
   ]
  },
  {
   "cell_type": "code",
   "execution_count": 9,
   "metadata": {},
   "outputs": [
    {
     "name": "stdout",
     "output_type": "stream",
     "text": [
      "<class 'pandas.core.frame.DataFrame'>\n",
      "Int64Index: 173 entries, 373 to 545\n",
      "Data columns (total 12 columns):\n",
      "price       173 non-null float64\n",
      "lotsize     173 non-null int64\n",
      "bedrooms    173 non-null int64\n",
      "bathrms     173 non-null int64\n",
      "stories     173 non-null int64\n",
      "driveway    173 non-null object\n",
      "recroom     173 non-null object\n",
      "fullbase    173 non-null object\n",
      "gashw       173 non-null object\n",
      "airco       173 non-null object\n",
      "garagepl    173 non-null int64\n",
      "prefarea    173 non-null object\n",
      "dtypes: float64(1), int64(5), object(6)\n",
      "memory usage: 17.6+ KB\n",
      "<class 'pandas.core.frame.DataFrame'>\n",
      "Int64Index: 373 entries, 0 to 372\n",
      "Data columns (total 12 columns):\n",
      "price       373 non-null float64\n",
      "lotsize     373 non-null int64\n",
      "bedrooms    373 non-null int64\n",
      "bathrms     373 non-null int64\n",
      "stories     373 non-null int64\n",
      "driveway    373 non-null object\n",
      "recroom     373 non-null object\n",
      "fullbase    373 non-null object\n",
      "gashw       373 non-null object\n",
      "airco       373 non-null object\n",
      "garagepl    373 non-null int64\n",
      "prefarea    373 non-null object\n",
      "dtypes: float64(1), int64(5), object(6)\n",
      "memory usage: 37.9+ KB\n"
     ]
    }
   ],
   "source": [
    "# Split up our dataset\n",
    "home_ac = home_prices[(home_prices['airco'] == 'yes')]\n",
    "home_ac.info()\n",
    "\n",
    "home_noac = home_prices[(home_prices['airco'] == 'no')]\n",
    "home_noac.info()"
   ]
  },
  {
   "cell_type": "markdown",
   "metadata": {},
   "source": [
    "We have nearly twice the number of patients without diabetes as with diabetes. A difference in sample size is not an issue for an independent samples t-test. Each sample is large enough and should give reliable estimates, given the data meets the rest of our assumptions.\n",
    "\n",
    "Let's continue with the analysis."
   ]
  },
  {
   "cell_type": "markdown",
   "metadata": {},
   "source": [
    "1. Do homes with air conditioning have a higher sales than price than homes without air conditioning."
   ]
  },
  {
   "cell_type": "code",
   "execution_count": 10,
   "metadata": {},
   "outputs": [
    {
     "data": {
      "image/png": "[encoded data removed]",
      "text/plain": [
       "<Figure size 432x288 with 1 Axes>"
      ]
     },
     "metadata": {
      "needs_background": "light"
     },
     "output_type": "display_data"
    }
   ],
   "source": [
    "plt.hist(home_ac['price'], alpha = .5)\n",
    "plt.hist(home_noac['price'], alpha = .5)\n",
    "plt.show()"
   ]
  },
  {
   "cell_type": "markdown",
   "metadata": {},
   "source": [
    "It appears from the histograms that this data does not fit a bell curve.\n",
    "\n",
    "To confirm, let's also retrieve the exact measures of skewness and kurtosis. We will do that with describe() from scipy.stats."
   ]
  },
  {
   "cell_type": "code",
   "execution_count": 14,
   "metadata": {},
   "outputs": [
    {
     "name": "stdout",
     "output_type": "stream",
     "text": [
      "DescribeResult(nobs=173, minmax=(31900.0, 190000.0), mean=85880.58959537573, variance=810167352.2317516, skewness=0.8558523643779228, kurtosis=0.9609338749117713)\n",
      "DescribeResult(nobs=373, minmax=(25000.0, 175000.0), mean=59884.85254691689, variance=455341800.98626363, skewness=1.4196100209360347, kurtosis=3.448225770991252)\n"
     ]
    }
   ],
   "source": [
    "print(stats.describe(home_ac['price']))\n",
    "print(stats.describe(home_noac['price']))"
   ]
  },
  {
   "cell_type": "markdown",
   "metadata": {},
   "source": [
    "Though there seems to be an observable difference in mean the kurtosis value of 3.44 for homes with no ac is not normally distributed for our t-test."
   ]
  },
  {
   "cell_type": "markdown",
   "metadata": {},
   "source": [
    "Is the sale price on average higher for homes with a full basement? "
   ]
  },
  {
   "cell_type": "code",
   "execution_count": 15,
   "metadata": {},
   "outputs": [
    {
     "name": "stdout",
     "output_type": "stream",
     "text": [
      "<class 'pandas.core.frame.DataFrame'>\n",
      "Int64Index: 191 entries, 0 to 438\n",
      "Data columns (total 12 columns):\n",
      "price       191 non-null float64\n",
      "lotsize     191 non-null int64\n",
      "bedrooms    191 non-null int64\n",
      "bathrms     191 non-null int64\n",
      "stories     191 non-null int64\n",
      "driveway    191 non-null object\n",
      "recroom     191 non-null object\n",
      "fullbase    191 non-null object\n",
      "gashw       191 non-null object\n",
      "airco       191 non-null object\n",
      "garagepl    191 non-null int64\n",
      "prefarea    191 non-null object\n",
      "dtypes: float64(1), int64(5), object(6)\n",
      "memory usage: 19.4+ KB\n",
      "<class 'pandas.core.frame.DataFrame'>\n",
      "Int64Index: 355 entries, 125 to 545\n",
      "Data columns (total 12 columns):\n",
      "price       355 non-null float64\n",
      "lotsize     355 non-null int64\n",
      "bedrooms    355 non-null int64\n",
      "bathrms     355 non-null int64\n",
      "stories     355 non-null int64\n",
      "driveway    355 non-null object\n",
      "recroom     355 non-null object\n",
      "fullbase    355 non-null object\n",
      "gashw       355 non-null object\n",
      "airco       355 non-null object\n",
      "garagepl    355 non-null int64\n",
      "prefarea    355 non-null object\n",
      "dtypes: float64(1), int64(5), object(6)\n",
      "memory usage: 36.1+ KB\n"
     ]
    }
   ],
   "source": [
    "fullbase_yes = home_prices[home_prices['fullbase'] == 'yes']\n",
    "fullbase_yes.info()\n",
    "\n",
    "fullbase_no = home_prices[home_prices['fullbase'] == 'no']\n",
    "fullbase_no.info()"
   ]
  },
  {
   "cell_type": "code",
   "execution_count": 16,
   "metadata": {},
   "outputs": [
    {
     "data": {
      "image/png": "[encoded data removed]",
      "text/plain": [
       "<Figure size 432x288 with 1 Axes>"
      ]
     },
     "metadata": {
      "needs_background": "light"
     },
     "output_type": "display_data"
    },
    {
     "name": "stdout",
     "output_type": "stream",
     "text": [
      "DescribeResult(nobs=191, minmax=(26000.0, 175000.0), mean=74894.50261780104, variance=687483535.4092036, skewness=1.299439350765169, kurtosis=2.200944427832982)\n",
      "DescribeResult(nobs=355, minmax=(25000.0, 190000.0), mean=64477.58309859155, variance=690693014.1816344, skewness=1.2539001276811907, kurtosis=1.9898502593432044)\n"
     ]
    }
   ],
   "source": [
    "plt.hist(fullbase_yes['price'], alpha = .5)\n",
    "plt.hist(fullbase_no['price'], alpha = .5)\n",
    "plt.show()\n",
    "\n",
    "print(stats.describe(fullbase_yes['price']))\n",
    "print(stats.describe(fullbase_no['price']))"
   ]
  },
  {
   "cell_type": "code",
   "execution_count": 17,
   "metadata": {},
   "outputs": [
    {
     "data": {
      "text/plain": [
       "Ttest_indResult(statistic=4.420628512286621, pvalue=1.1885626562866786e-05)"
      ]
     },
     "execution_count": 17,
     "metadata": {},
     "output_type": "execute_result"
    }
   ],
   "source": [
    "#T-Testing \n",
    "stats.ttest_ind(fullbase_yes['price'], fullbase_no['price'])"
   ]
  },
  {
   "cell_type": "code",
   "execution_count": 18,
   "metadata": {},
   "outputs": [
    {
     "data": {
      "text/plain": [
       "'The difference in means at the 95% confidence interval (two-tail) is between -15032.294775656886 and -5801.544262762097.'"
      ]
     },
     "execution_count": 18,
     "metadata": {},
     "output_type": "execute_result"
    }
   ],
   "source": [
    "def get_95_ci(array_1, array_2):\n",
    "    sample_1_n = array_1.shape[0]\n",
    "    sample_2_n = array_2.shape[0]\n",
    "    sample_1_mean = array_1.mean()\n",
    "    sample_2_mean = array_2.mean()\n",
    "    sample_1_var = array_1.var()\n",
    "    sample_2_var = array_2.var()\n",
    "    mean_difference = sample_2_mean - sample_1_mean\n",
    "    std_err_difference = math.sqrt((sample_1_var/sample_1_n)+(sample_2_var/sample_2_n))\n",
    "    margin_of_error = 1.96 * std_err_difference\n",
    "    ci_lower = mean_difference - margin_of_error\n",
    "    ci_upper = mean_difference + margin_of_error\n",
    "    return(\"The difference in means at the 95% confidence interval (two-tail) is between \"+str(ci_lower)+\" and \"+str(ci_upper)+\".\")\n",
    "\n",
    "get_95_ci(fullbase_yes['price'], fullbase_no['price'])"
   ]
  },
  {
   "cell_type": "code",
   "execution_count": 19,
   "metadata": {},
   "outputs": [
    {
     "data": {
      "text/plain": [
       "[[Text(0, 0, 'fullbase_yes'), Text(0, 0, 'fullbase_no')]]"
      ]
     },
     "execution_count": 19,
     "metadata": {},
     "output_type": "execute_result"
    },
    {
     "data": {
      "image/png": "[encoded data removed]",
      "text/plain": [
       "<Figure size 432x288 with 1 Axes>"
      ]
     },
     "metadata": {
      "needs_background": "light"
     },
     "output_type": "display_data"
    }
   ],
   "source": [
    "#pointplot to compare the means.\n",
    "\n",
    "import seaborn as sns\n",
    "\n",
    "g = sns.pointplot(data=[fullbase_yes['price'], fullbase_no['price']], join=False)\n",
    "                        \n",
    "g.set(xticklabels = ['fullbase_yes', 'fullbase_no'])"
   ]
  },
  {
   "cell_type": "markdown",
   "metadata": {},
   "source": [
    "As you are conducting the analysis, consider what other variables may be accounting for any significant differences you find.\n",
    "\n",
    "Through our data we havent been given any information on the location of the homes and anyone with a little domain knowledge knows that this an important variable in the pricing of homes. The age of the home is also important. "
   ]
  }
 ],
 "metadata": {
  "kernelspec": {
   "display_name": "Python 3",
   "language": "python",
   "name": "python3"
  },
  "language_info": {
   "codemirror_mode": {
    "name": "ipython",
    "version": 3
   },
   "file_extension": ".py",
   "mimetype": "text/x-python",
   "name": "python",
   "nbconvert_exporter": "python",
   "pygments_lexer": "ipython3",
   "version": "3.7.4"
  }
 },
 "nbformat": 4,
 "nbformat_minor": 2
}
